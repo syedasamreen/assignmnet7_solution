{
 "cells": [
  {
   "cell_type": "raw",
   "id": "227bc16a-3aac-4f2b-9672-bbf22ce289c8",
   "metadata": {},
   "source": [
    "1. Assign the value 7 to the variable guess_me. Then, write the conditional tests (if, else, and elif) to print the string 'too low' if guess_me is less than 7, 'too high' if greater than 7, and 'just right' if equal to 7.\n"
   ]
  },
  {
   "cell_type": "code",
   "execution_count": 2,
   "id": "29bd6f06-0efc-4275-bf7e-01c8ffce4025",
   "metadata": {},
   "outputs": [
    {
     "name": "stdout",
     "output_type": "stream",
     "text": [
      "just right\n"
     ]
    }
   ],
   "source": [
    "guess_me = 7\n",
    "if guess_me < 7:\n",
    "    print('too low')\n",
    "elif guess_me>7:\n",
    "    print('too high')\n",
    "else:\n",
    "    print('just right')"
   ]
  },
  {
   "cell_type": "code",
   "execution_count": null,
   "id": "74de718c-a6d4-429e-a4cc-6a299c42177e",
   "metadata": {},
   "outputs": [],
   "source": [
    "2. Assign the value 7 to the variable guess_me and the value 1 to the variable start. Write a while loop that compares start with guess_me. Print too low if start is less than guess me. If start equals guess_me, print 'found it!' and exit the loop. If start is greater than guess_me, print 'oops' and exit the loop. Increment start at the end of the loop.\n"
   ]
  },
  {
   "cell_type": "code",
   "execution_count": 7,
   "id": "4b0b3f59-57d0-4354-b5a1-eb610ff43819",
   "metadata": {},
   "outputs": [
    {
     "name": "stdout",
     "output_type": "stream",
     "text": [
      "too low\n",
      "too low\n",
      "too low\n",
      "too low\n",
      "too low\n",
      "too low\n",
      "found it\n"
     ]
    }
   ],
   "source": [
    "start = 1\n",
    "guess_me = 7\n",
    "\n",
    "while guess_me >= start:\n",
    "    if start < guess_me:\n",
    "        print('too low')\n",
    "    elif start == guess_me:\n",
    "        print('found it')\n",
    "        break\n",
    "    else: \n",
    "        print('oops')\n",
    "        break\n",
    "    start += 1"
   ]
  },
  {
   "cell_type": "code",
   "execution_count": null,
   "id": "54334a48-7e1f-45d9-94d5-f5ee0e01b65a",
   "metadata": {},
   "outputs": [],
   "source": [
    "3. Print the following values of the list [3, 2, 1, 0] using a for loop.\n"
   ]
  },
  {
   "cell_type": "code",
   "execution_count": 8,
   "id": "277a5dc6-1b0b-4ce0-b290-8b5871ffb292",
   "metadata": {},
   "outputs": [
    {
     "name": "stdout",
     "output_type": "stream",
     "text": [
      "3\n",
      "2\n",
      "1\n",
      "0\n"
     ]
    }
   ],
   "source": [
    "List = [3, 2, 1, 0]\n",
    "for i in List:\n",
    "    print(i)"
   ]
  },
  {
   "cell_type": "code",
   "execution_count": null,
   "id": "55f5ef0d-ac66-49e3-a546-3cf13e7eefd2",
   "metadata": {},
   "outputs": [],
   "source": [
    "4. Use a list comprehension to make a list of the even numbers in range(10)\n"
   ]
  },
  {
   "cell_type": "code",
   "execution_count": 9,
   "id": "a15cd951-daeb-48db-b2a4-1243c0699e0b",
   "metadata": {},
   "outputs": [
    {
     "name": "stdout",
     "output_type": "stream",
     "text": [
      "[0, 2, 4, 6, 8, 10]\n"
     ]
    }
   ],
   "source": [
    "even = [i for i in range(0,11,2) ]\n",
    "print(even)"
   ]
  },
  {
   "cell_type": "code",
   "execution_count": null,
   "id": "a595bb2b-b80b-402a-98e4-5fdc9ad32639",
   "metadata": {},
   "outputs": [],
   "source": [
    "5. Use a dictionary comprehension to create the dictionary squares. Use range(10) to return the keys, and use the square of each key as its value.\n"
   ]
  },
  {
   "cell_type": "code",
   "execution_count": 14,
   "id": "cc4da3b0-5167-4f68-a375-36248d6c4ab7",
   "metadata": {},
   "outputs": [
    {
     "name": "stdout",
     "output_type": "stream",
     "text": [
      "{0: 0, 1: 1, 2: 4, 3: 9, 4: 16, 5: 25, 6: 36, 7: 49, 8: 64, 9: 81}\n"
     ]
    }
   ],
   "source": [
    "square_dict =  {n:n**2 for n in range(10)}\n",
    "\n",
    "print(square_dict)"
   ]
  },
  {
   "cell_type": "code",
   "execution_count": null,
   "id": "99054686-4c62-445c-a146-c15a19c722a1",
   "metadata": {},
   "outputs": [],
   "source": [
    "6. Construct the set odd from the odd numbers in the range using a set comprehension (10).\n"
   ]
  },
  {
   "cell_type": "code",
   "execution_count": 19,
   "id": "c02120b4-e6b9-4c03-a337-13369d18e444",
   "metadata": {},
   "outputs": [
    {
     "name": "stdout",
     "output_type": "stream",
     "text": [
      "{1, 3, 5, 7, 9}\n"
     ]
    }
   ],
   "source": [
    "set_odd = {n for n in range(1,11,2)}\n",
    "print(set_odd)"
   ]
  },
  {
   "cell_type": "code",
   "execution_count": 20,
   "id": "f557a9a5-1c1b-4230-aa4e-4ce08fd96b1d",
   "metadata": {},
   "outputs": [
    {
     "name": "stdout",
     "output_type": "stream",
     "text": [
      "{1, 3, 5, 7, 9}\n"
     ]
    }
   ],
   "source": [
    "set_odd = {n for n in range(10) if n%2 !=0}\n",
    "print(set_odd)"
   ]
  },
  {
   "cell_type": "code",
   "execution_count": null,
   "id": "9e52199d-d13a-41b4-ac0e-67084d9e6411",
   "metadata": {},
   "outputs": [],
   "source": [
    "7. Use a generator comprehension to return the string 'Got ' and a number for the numbers in range(10). Iterate through this by using a for loop.\n"
   ]
  },
  {
   "cell_type": "code",
   "execution_count": 22,
   "id": "c12a9144-e0cb-4ead-8d15-94afeeee9602",
   "metadata": {},
   "outputs": [
    {
     "data": {
      "text/plain": [
       "'Got '"
      ]
     },
     "execution_count": 22,
     "metadata": {},
     "output_type": "execute_result"
    }
   ],
   "source": [
    "filtered_gen = ('Got ' for item in range(10))\n",
    "next(filtered_gen)"
   ]
  },
  {
   "cell_type": "code",
   "execution_count": 23,
   "id": "004c36e6-3dab-49cd-9282-3348e99e81e7",
   "metadata": {},
   "outputs": [
    {
     "data": {
      "text/plain": [
       "['Got ', 'Got ', 'Got ', 'Got ', 'Got ', 'Got ', 'Got ', 'Got ', 'Got ']"
      ]
     },
     "execution_count": 23,
     "metadata": {},
     "output_type": "execute_result"
    }
   ],
   "source": [
    "list(filtered_gen)"
   ]
  },
  {
   "cell_type": "code",
   "execution_count": null,
   "id": "c495cd3b-f597-4f49-a7b4-b531e3783a3f",
   "metadata": {},
   "outputs": [],
   "source": [
    "8. Define a function called good that returns the list ['Harry', 'Ron', 'Hermione'].\n"
   ]
  },
  {
   "cell_type": "code",
   "execution_count": 24,
   "id": "b3d45a18-5fb8-4947-b7fe-b3b15417f3e9",
   "metadata": {},
   "outputs": [],
   "source": [
    "def good():\n",
    "    g = ['Harry', 'Ron', 'Hermione']\n",
    "    return g"
   ]
  },
  {
   "cell_type": "code",
   "execution_count": 25,
   "id": "773602ab-dc7a-40c0-8df5-235c32929295",
   "metadata": {},
   "outputs": [
    {
     "data": {
      "text/plain": [
       "['Harry', 'Ron', 'Hermione']"
      ]
     },
     "execution_count": 25,
     "metadata": {},
     "output_type": "execute_result"
    }
   ],
   "source": [
    "good()"
   ]
  },
  {
   "cell_type": "code",
   "execution_count": null,
   "id": "05243940-6546-4d8e-a1c8-8fc8542ec2a6",
   "metadata": {},
   "outputs": [],
   "source": [
    "9. Define a generator function called get_odds that returns the odd numbers from range(10). Use a for loop to find and print the third value returned.\n",
    "\n"
   ]
  },
  {
   "cell_type": "code",
   "execution_count": 27,
   "id": "389a82c7-8aef-415d-8773-1f6d17b6e37b",
   "metadata": {},
   "outputs": [
    {
     "data": {
      "text/plain": [
       "1"
      ]
     },
     "execution_count": 27,
     "metadata": {},
     "output_type": "execute_result"
    }
   ],
   "source": [
    "get_odds = (odd for odd in range(10) if odd%2 != 0)\n",
    "next(get_odds)"
   ]
  },
  {
   "cell_type": "code",
   "execution_count": 28,
   "id": "549519e9-2789-40cb-8261-fe2c53aa9e5d",
   "metadata": {},
   "outputs": [
    {
     "data": {
      "text/plain": [
       "3"
      ]
     },
     "execution_count": 28,
     "metadata": {},
     "output_type": "execute_result"
    }
   ],
   "source": [
    "next(get_odds)"
   ]
  },
  {
   "cell_type": "code",
   "execution_count": null,
   "id": "1d7257fb-1d54-49d8-b29f-6cae3617a05f",
   "metadata": {},
   "outputs": [],
   "source": [
    "10. Define an exception called OopsException. Raise this exception to see what happens. Then write the code to catch this exception and print 'Caught an oops'.\n"
   ]
  },
  {
   "cell_type": "code",
   "execution_count": 31,
   "id": "bc7338bb-9170-41f6-8d4d-158ab87bd744",
   "metadata": {},
   "outputs": [],
   "source": [
    "def OopsException():\n",
    "    try:\n",
    "        raise OopsException\n",
    "    except:\n",
    "        print('Caught an Oops')"
   ]
  },
  {
   "cell_type": "code",
   "execution_count": 32,
   "id": "9a38dcc8-73ac-484d-b13c-f2161f0ca5d1",
   "metadata": {},
   "outputs": [
    {
     "name": "stdout",
     "output_type": "stream",
     "text": [
      "Caught an Oops\n"
     ]
    }
   ],
   "source": [
    "OopsException()"
   ]
  },
  {
   "cell_type": "code",
   "execution_count": null,
   "id": "d3d77ef4-0f5f-4af2-bbaa-1e3d7912c46d",
   "metadata": {},
   "outputs": [],
   "source": [
    "11. Use zip() to make a dictionary called movies that pairs these lists: titles = ['Creature of Habit', 'Crewel Fate'] and plots = ['A nun turns into a monster', 'A haunted yarn shop'].\n"
   ]
  },
  {
   "cell_type": "code",
   "execution_count": 52,
   "id": "157b20a2-53b4-430a-be0f-927a56d86e0d",
   "metadata": {},
   "outputs": [
    {
     "name": "stdout",
     "output_type": "stream",
     "text": [
      "{'Creature of Habit': 'A nun turns into a monster', 'Crewel Fate': 'A haunted yarn shop'}\n"
     ]
    }
   ],
   "source": [
    "titles= ['Creature of Habit', 'Crewel Fate']\n",
    "plots= ['A nun turns into a monster', 'A haunted yarn shop']\n",
    "movies = dict(zip(titles, plots))\n",
    "print(movies)\n"
   ]
  },
  {
   "cell_type": "code",
   "execution_count": null,
   "id": "ff8061bd-4461-4d20-9d13-d7e819d86f13",
   "metadata": {},
   "outputs": [],
   "source": []
  }
 ],
 "metadata": {
  "kernelspec": {
   "display_name": "Python 3 (ipykernel)",
   "language": "python",
   "name": "python3"
  },
  "language_info": {
   "codemirror_mode": {
    "name": "ipython",
    "version": 3
   },
   "file_extension": ".py",
   "mimetype": "text/x-python",
   "name": "python",
   "nbconvert_exporter": "python",
   "pygments_lexer": "ipython3",
   "version": "3.11.7"
  },
  "widgets": {
   "application/vnd.jupyter.widget-state+json": {
    "state": {},
    "version_major": 2,
    "version_minor": 0
   }
  }
 },
 "nbformat": 4,
 "nbformat_minor": 5
}
