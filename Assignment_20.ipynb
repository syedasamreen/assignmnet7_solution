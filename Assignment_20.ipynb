{
 "cells": [
  {
   "cell_type": "code",
   "execution_count": null,
   "id": "994565be-1770-433e-aeae-2e72d8ceb3be",
   "metadata": {},
   "outputs": [],
   "source": [
    "1. Set the variable test1 to the string 'This is a test of the emergency text system,' and save test1 to a file named test.txt.\n"
   ]
  },
  {
   "cell_type": "code",
   "execution_count": 2,
   "id": "82a0a815-2e9b-4e1c-a7c4-94c7e36cd596",
   "metadata": {},
   "outputs": [],
   "source": [
    "test1 = 'This is a test of the emergency text system,'\n",
    "with open('test.txt',mode = 'w') as f:\n",
    "    f.write(test1)\n"
   ]
  },
  {
   "cell_type": "code",
   "execution_count": null,
   "id": "496a75aa-8b14-4438-9c3f-66c0889709dc",
   "metadata": {},
   "outputs": [],
   "source": [
    "2. Read the contents of the file test.txt into the variable test2. Is there a difference between test 1 and test 2?\n"
   ]
  },
  {
   "cell_type": "code",
   "execution_count": 4,
   "id": "d0b97990-fe10-4856-80e3-fe99696b4498",
   "metadata": {},
   "outputs": [
    {
     "name": "stdout",
     "output_type": "stream",
     "text": [
      "This is a test of the emergency text system,\n"
     ]
    }
   ],
   "source": [
    "with open('test.txt') as f:\n",
    "    print(f.read())"
   ]
  },
  {
   "cell_type": "code",
   "execution_count": null,
   "id": "fae3c650-23e2-4897-8bf2-0274484d7656",
   "metadata": {},
   "outputs": [],
   "source": [
    "3. Create a CSV file called books.csv by using these lines:\n",
    "title,author,year\n",
    "The Weirdstone of Brisingamen,Alan Garner,1960\n",
    "Perdido Street Station,China Miéville,2000\n",
    "Thud!,Terry Pratchett,2005\n",
    "The Spellman Files,Lisa Lutz,2007\n",
    "Small Gods,Terry Pratchett,1992\n"
   ]
  },
  {
   "cell_type": "code",
   "execution_count": 25,
   "id": "2a147f40-1fb9-425b-8093-adf06a20029a",
   "metadata": {},
   "outputs": [],
   "source": [
    "import csv\n",
    "header = ['title','author','year']\n",
    "row = [['The Weirdstone of Brisingamen','Alan Garner',1960],['Perdido Street Station','China Miéville',2000],['Thud!','Terry Pratchett',2005],['The Spellman Files','Lisa Lutz',2007],['Small Gods','Terry Pratchett',1992]]\n",
    "with open('books.csv',mode = 'w',newline='') as f:\n",
    "    data = csv.writer(f)\n",
    "    data.writerow(header)\n",
    "    for i in row:\n",
    "        data.writerow(i)\n",
    "    # data.writerows(row)\n",
    "    "
   ]
  },
  {
   "cell_type": "code",
   "execution_count": null,
   "id": "3a200cee-5c58-4cdb-bb92-d142a0b857bd",
   "metadata": {},
   "outputs": [],
   "source": [
    "4. Use the sqlite3 module to create a SQLite database called books.db, and a table called books with these fields: title (text), author (text), and year (integer).\n"
   ]
  },
  {
   "cell_type": "code",
   "execution_count": 32,
   "id": "fabe3469-5a4e-49da-b474-113724fe23ad",
   "metadata": {
    "scrolled": true
   },
   "outputs": [
    {
     "ename": "OperationalError",
     "evalue": "table books already exists",
     "output_type": "error",
     "traceback": [
      "\u001b[1;31m---------------------------------------------------------------------------\u001b[0m",
      "\u001b[1;31mOperationalError\u001b[0m                          Traceback (most recent call last)",
      "Cell \u001b[1;32mIn[32], line 4\u001b[0m\n\u001b[0;32m      2\u001b[0m DB \u001b[38;5;241m=\u001b[39m sq\u001b[38;5;241m.\u001b[39mconnect(\u001b[38;5;124m\"\u001b[39m\u001b[38;5;124mbooks.db\u001b[39m\u001b[38;5;124m\"\u001b[39m)\n\u001b[0;32m      3\u001b[0m cur \u001b[38;5;241m=\u001b[39m DB\u001b[38;5;241m.\u001b[39mcursor()\n\u001b[1;32m----> 4\u001b[0m \u001b[43mcur\u001b[49m\u001b[38;5;241;43m.\u001b[39;49m\u001b[43mexecute\u001b[49m\u001b[43m(\u001b[49m\u001b[38;5;124;43m\"\u001b[39;49m\u001b[38;5;124;43mCREATE TABLE books(title text, author text, year integer)\u001b[39;49m\u001b[38;5;124;43m\"\u001b[39;49m\u001b[43m)\u001b[49m\n\u001b[0;32m      5\u001b[0m DB\u001b[38;5;241m.\u001b[39mcommit()\n\u001b[0;32m      6\u001b[0m DB\u001b[38;5;241m.\u001b[39mclose()\n",
      "\u001b[1;31mOperationalError\u001b[0m: table books already exists"
     ]
    }
   ],
   "source": [
    "import sqlite3 as sq\n",
    "DB = sq.connect(\"books.db\")\n",
    "cur = DB.cursor()\n",
    "cur.execute(\"CREATE TABLE books(title text, author text, year integer)\")\n",
    "DB.commit()\n",
    "DB.close()"
   ]
  },
  {
   "cell_type": "code",
   "execution_count": null,
   "id": "5bb99351-6fd0-43eb-bfbe-4edc879f5745",
   "metadata": {},
   "outputs": [],
   "source": [
    "5. Read books.csv and insert its data into the book table.\n"
   ]
  },
  {
   "cell_type": "code",
   "execution_count": 37,
   "id": "b8ac893f-b2cb-4d05-a499-5f9ac5caa630",
   "metadata": {},
   "outputs": [],
   "source": [
    "with open('books.csv') as f:\n",
    "    data = csv.reader(f)\n",
    "    for i in data:\n",
    "        cur.execute('INSERT INTO books VALUES(?,?,?)',i)\n",
    "DB.commit()    \n",
    "        # print(i)"
   ]
  },
  {
   "cell_type": "code",
   "execution_count": null,
   "id": "e6968177-b352-4ec1-a084-7ecfb4729630",
   "metadata": {},
   "outputs": [],
   "source": []
  },
  {
   "cell_type": "code",
   "execution_count": null,
   "id": "044dc1d4-e914-47a5-ad1b-fe64714664c4",
   "metadata": {},
   "outputs": [],
   "source": [
    "6. Select and print the title column from the book table in alphabetical order.\n"
   ]
  },
  {
   "cell_type": "code",
   "execution_count": 38,
   "id": "892394bd-e611-4f2d-9410-0033b2fd456c",
   "metadata": {},
   "outputs": [
    {
     "name": "stdout",
     "output_type": "stream",
     "text": [
      "('Perdido Street Station',)\n",
      "('Small Gods',)\n",
      "('The Spellman Files',)\n",
      "('The Weirdstone of Brisingamen',)\n",
      "('Thud!',)\n",
      "('title',)\n"
     ]
    }
   ],
   "source": [
    "for row in cur.execute(\"SELECT title FROM books ORDER BY title\"):\n",
    "    print(row)"
   ]
  },
  {
   "cell_type": "code",
   "execution_count": null,
   "id": "14518a1d-3e04-4b80-8052-5248cee4be40",
   "metadata": {},
   "outputs": [],
   "source": [
    "7. From the book table, select and print all columns in the order of publication.\n"
   ]
  },
  {
   "cell_type": "code",
   "execution_count": 39,
   "id": "9dfb3800-6bc9-48c7-aa58-4a882ac33f1d",
   "metadata": {},
   "outputs": [
    {
     "name": "stdout",
     "output_type": "stream",
     "text": [
      "('The Weirdstone of Brisingamen', 'Alan Garner', 1960)\n",
      "('Small Gods', 'Terry Pratchett', 1992)\n",
      "('Perdido Street Station', 'China Miéville', 2000)\n",
      "('Thud!', 'Terry Pratchett', 2005)\n",
      "('The Spellman Files', 'Lisa Lutz', 2007)\n",
      "('title', 'author', 'year')\n"
     ]
    }
   ],
   "source": [
    "for row in cur.execute(\"SELECT * FROM books ORDER BY year\"):\n",
    "    print(row)"
   ]
  },
  {
   "cell_type": "code",
   "execution_count": null,
   "id": "f0e0954f-209b-40fc-812b-5a4c043807c2",
   "metadata": {},
   "outputs": [],
   "source": [
    "8. Use the sqlalchemy module to connect to the sqlite3 database books.db that you just made in exercise 6.\n"
   ]
  },
  {
   "cell_type": "code",
   "execution_count": 40,
   "id": "3ef167d2-2ff9-46f1-bc2b-a1666cf4e1a7",
   "metadata": {
    "scrolled": true
   },
   "outputs": [
    {
     "name": "stdout",
     "output_type": "stream",
     "text": [
      "Collecting SQLAlchemyNote: you may need to restart the kernel to use updated packages.\n"
     ]
    },
    {
     "name": "stderr",
     "output_type": "stream",
     "text": [
      "\n",
      "[notice] A new release of pip is available: 24.0 -> 24.1\n",
      "[notice] To update, run: python.exe -m pip install --upgrade pip\n"
     ]
    },
    {
     "name": "stdout",
     "output_type": "stream",
     "text": [
      "\n",
      "  Downloading SQLAlchemy-2.0.31-cp311-cp311-win_amd64.whl.metadata (9.9 kB)\n",
      "Requirement already satisfied: typing-extensions>=4.6.0 in c:\\users\\excel\\appdata\\local\\programs\\python\\python311\\lib\\site-packages (from SQLAlchemy) (4.8.0)\n",
      "Requirement already satisfied: greenlet!=0.4.17 in c:\\users\\excel\\appdata\\local\\programs\\python\\python311\\lib\\site-packages (from SQLAlchemy) (3.0.3)\n",
      "Downloading SQLAlchemy-2.0.31-cp311-cp311-win_amd64.whl (2.1 MB)\n",
      "   ---------------------------------------- 0.0/2.1 MB ? eta -:--:--\n",
      "   ---------------------------------------- 0.0/2.1 MB ? eta -:--:--\n",
      "   ---------------------------------------- 0.0/2.1 MB ? eta -:--:--\n",
      "   ---------------------------------------- 0.0/2.1 MB ? eta -:--:--\n",
      "    --------------------------------------- 0.0/2.1 MB 330.3 kB/s eta 0:00:07\n",
      "    --------------------------------------- 0.0/2.1 MB 330.3 kB/s eta 0:00:07\n",
      "    --------------------------------------- 0.0/2.1 MB 179.6 kB/s eta 0:00:12\n",
      "   - -------------------------------------- 0.1/2.1 MB 218.8 kB/s eta 0:00:10\n",
      "   - -------------------------------------- 0.1/2.1 MB 218.8 kB/s eta 0:00:10\n",
      "   - -------------------------------------- 0.1/2.1 MB 218.8 kB/s eta 0:00:10\n",
      "   - -------------------------------------- 0.1/2.1 MB 199.7 kB/s eta 0:00:11\n",
      "   - -------------------------------------- 0.1/2.1 MB 199.7 kB/s eta 0:00:11\n",
      "   - -------------------------------------- 0.1/2.1 MB 199.7 kB/s eta 0:00:11\n",
      "   - -------------------------------------- 0.1/2.1 MB 169.3 kB/s eta 0:00:12\n",
      "   - -------------------------------------- 0.1/2.1 MB 169.3 kB/s eta 0:00:12\n",
      "   -- ------------------------------------- 0.1/2.1 MB 182.2 kB/s eta 0:00:11\n",
      "   -- ------------------------------------- 0.1/2.1 MB 182.2 kB/s eta 0:00:11\n",
      "   -- ------------------------------------- 0.1/2.1 MB 193.8 kB/s eta 0:00:10\n",
      "   -- ------------------------------------- 0.1/2.1 MB 193.8 kB/s eta 0:00:10\n",
      "   -- ------------------------------------- 0.1/2.1 MB 193.8 kB/s eta 0:00:10\n",
      "   --- ------------------------------------ 0.2/2.1 MB 193.0 kB/s eta 0:00:10\n",
      "   --- ------------------------------------ 0.2/2.1 MB 193.0 kB/s eta 0:00:10\n",
      "   --- ------------------------------------ 0.2/2.1 MB 193.0 kB/s eta 0:00:10\n",
      "   --- ------------------------------------ 0.2/2.1 MB 174.9 kB/s eta 0:00:11\n",
      "   --- ------------------------------------ 0.2/2.1 MB 184.3 kB/s eta 0:00:11\n",
      "   --- ------------------------------------ 0.2/2.1 MB 188.7 kB/s eta 0:00:10\n",
      "   --- ------------------------------------ 0.2/2.1 MB 188.7 kB/s eta 0:00:10\n",
      "   --- ------------------------------------ 0.2/2.1 MB 188.7 kB/s eta 0:00:10\n",
      "   ---- ----------------------------------- 0.2/2.1 MB 181.2 kB/s eta 0:00:11\n",
      "   ---- ----------------------------------- 0.2/2.1 MB 181.2 kB/s eta 0:00:11\n",
      "   ---- ----------------------------------- 0.2/2.1 MB 181.2 kB/s eta 0:00:11\n",
      "   ---- ----------------------------------- 0.2/2.1 MB 181.2 kB/s eta 0:00:11\n",
      "   ---- ----------------------------------- 0.2/2.1 MB 181.2 kB/s eta 0:00:11\n",
      "   ---- ----------------------------------- 0.2/2.1 MB 181.2 kB/s eta 0:00:11\n",
      "   ---- ----------------------------------- 0.2/2.1 MB 181.2 kB/s eta 0:00:11\n",
      "   ---- ----------------------------------- 0.2/2.1 MB 181.2 kB/s eta 0:00:11\n",
      "   ---- ----------------------------------- 0.2/2.1 MB 152.3 kB/s eta 0:00:13\n",
      "   ---- ----------------------------------- 0.2/2.1 MB 152.3 kB/s eta 0:00:13\n",
      "   ---- ----------------------------------- 0.2/2.1 MB 152.3 kB/s eta 0:00:13\n",
      "   ---- ----------------------------------- 0.2/2.1 MB 152.3 kB/s eta 0:00:13\n",
      "   ---- ----------------------------------- 0.2/2.1 MB 152.3 kB/s eta 0:00:13\n",
      "   ---- ----------------------------------- 0.3/2.1 MB 139.2 kB/s eta 0:00:14\n",
      "   ---- ----------------------------------- 0.3/2.1 MB 139.2 kB/s eta 0:00:14\n",
      "   ----- ---------------------------------- 0.3/2.1 MB 147.5 kB/s eta 0:00:13\n",
      "   ----- ---------------------------------- 0.3/2.1 MB 147.5 kB/s eta 0:00:13\n",
      "   ----- ---------------------------------- 0.3/2.1 MB 153.3 kB/s eta 0:00:12\n",
      "   ------ --------------------------------- 0.3/2.1 MB 157.5 kB/s eta 0:00:12\n",
      "   ------ --------------------------------- 0.3/2.1 MB 157.5 kB/s eta 0:00:12\n",
      "   ------ --------------------------------- 0.3/2.1 MB 157.5 kB/s eta 0:00:12\n",
      "   ------ --------------------------------- 0.3/2.1 MB 157.5 kB/s eta 0:00:12\n",
      "   ------ --------------------------------- 0.3/2.1 MB 152.0 kB/s eta 0:00:12\n",
      "   ------ --------------------------------- 0.4/2.1 MB 157.0 kB/s eta 0:00:11\n",
      "   ------- -------------------------------- 0.4/2.1 MB 157.1 kB/s eta 0:00:11\n",
      "   ------- -------------------------------- 0.4/2.1 MB 157.1 kB/s eta 0:00:11\n",
      "   ------- -------------------------------- 0.4/2.1 MB 161.7 kB/s eta 0:00:11\n",
      "   ------- -------------------------------- 0.4/2.1 MB 167.1 kB/s eta 0:00:11\n",
      "   -------- ------------------------------- 0.4/2.1 MB 168.1 kB/s eta 0:00:10\n",
      "   -------- ------------------------------- 0.4/2.1 MB 168.1 kB/s eta 0:00:10\n",
      "   -------- ------------------------------- 0.4/2.1 MB 168.1 kB/s eta 0:00:10\n",
      "   -------- ------------------------------- 0.4/2.1 MB 168.1 kB/s eta 0:00:10\n",
      "   -------- ------------------------------- 0.4/2.1 MB 168.1 kB/s eta 0:00:10\n",
      "   -------- ------------------------------- 0.4/2.1 MB 159.1 kB/s eta 0:00:11\n",
      "   -------- ------------------------------- 0.4/2.1 MB 159.1 kB/s eta 0:00:11\n",
      "   -------- ------------------------------- 0.5/2.1 MB 159.2 kB/s eta 0:00:11\n",
      "   --------- ------------------------------ 0.5/2.1 MB 162.9 kB/s eta 0:00:10\n",
      "   --------- ------------------------------ 0.5/2.1 MB 162.9 kB/s eta 0:00:10\n",
      "   --------- ------------------------------ 0.5/2.1 MB 165.6 kB/s eta 0:00:10\n",
      "   --------- ------------------------------ 0.5/2.1 MB 166.4 kB/s eta 0:00:10\n",
      "   ---------- ----------------------------- 0.5/2.1 MB 170.7 kB/s eta 0:00:10\n",
      "   ---------- ----------------------------- 0.5/2.1 MB 171.5 kB/s eta 0:00:10\n",
      "   ---------- ----------------------------- 0.5/2.1 MB 171.5 kB/s eta 0:00:10\n",
      "   ----------- ---------------------------- 0.6/2.1 MB 178.5 kB/s eta 0:00:09\n",
      "   ----------- ---------------------------- 0.6/2.1 MB 179.9 kB/s eta 0:00:09\n",
      "   ----------- ---------------------------- 0.6/2.1 MB 183.6 kB/s eta 0:00:09\n",
      "   ----------- ---------------------------- 0.6/2.1 MB 183.6 kB/s eta 0:00:09\n",
      "   ----------- ---------------------------- 0.6/2.1 MB 183.6 kB/s eta 0:00:09\n",
      "   ----------- ---------------------------- 0.6/2.1 MB 179.0 kB/s eta 0:00:09\n",
      "   ----------- ---------------------------- 0.6/2.1 MB 179.0 kB/s eta 0:00:09\n",
      "   ----------- ---------------------------- 0.6/2.1 MB 179.0 kB/s eta 0:00:09\n",
      "   ------------ --------------------------- 0.6/2.1 MB 179.3 kB/s eta 0:00:09\n",
      "   ------------ --------------------------- 0.6/2.1 MB 179.3 kB/s eta 0:00:09\n",
      "   ------------ --------------------------- 0.7/2.1 MB 180.3 kB/s eta 0:00:08\n",
      "   ------------ --------------------------- 0.7/2.1 MB 180.0 kB/s eta 0:00:08\n",
      "   ------------- -------------------------- 0.7/2.1 MB 183.3 kB/s eta 0:00:08\n",
      "   ------------- -------------------------- 0.7/2.1 MB 183.3 kB/s eta 0:00:08\n",
      "   ------------- -------------------------- 0.7/2.1 MB 183.7 kB/s eta 0:00:08\n",
      "   ------------- -------------------------- 0.7/2.1 MB 186.1 kB/s eta 0:00:08\n",
      "   -------------- ------------------------- 0.7/2.1 MB 189.2 kB/s eta 0:00:08\n",
      "   -------------- ------------------------- 0.7/2.1 MB 189.2 kB/s eta 0:00:08\n",
      "   -------------- ------------------------- 0.7/2.1 MB 189.2 kB/s eta 0:00:08\n",
      "   -------------- ------------------------- 0.7/2.1 MB 189.2 kB/s eta 0:00:08\n",
      "   -------------- ------------------------- 0.8/2.1 MB 188.0 kB/s eta 0:00:07\n",
      "   -------------- ------------------------- 0.8/2.1 MB 188.0 kB/s eta 0:00:07\n",
      "   -------------- ------------------------- 0.8/2.1 MB 188.0 kB/s eta 0:00:07\n",
      "   -------------- ------------------------- 0.8/2.1 MB 188.0 kB/s eta 0:00:07\n",
      "   -------------- ------------------------- 0.8/2.1 MB 182.7 kB/s eta 0:00:08\n",
      "   --------------- ------------------------ 0.8/2.1 MB 186.2 kB/s eta 0:00:07\n",
      "   --------------- ------------------------ 0.8/2.1 MB 186.2 kB/s eta 0:00:07\n",
      "   --------------- ------------------------ 0.8/2.1 MB 186.2 kB/s eta 0:00:07\n",
      "   --------------- ------------------------ 0.8/2.1 MB 186.2 kB/s eta 0:00:07\n",
      "   --------------- ------------------------ 0.8/2.1 MB 186.2 kB/s eta 0:00:07\n",
      "   --------------- ------------------------ 0.8/2.1 MB 186.2 kB/s eta 0:00:07\n",
      "   --------------- ------------------------ 0.8/2.1 MB 186.2 kB/s eta 0:00:07\n",
      "   --------------- ------------------------ 0.8/2.1 MB 186.2 kB/s eta 0:00:07\n",
      "   --------------- ------------------------ 0.8/2.1 MB 186.2 kB/s eta 0:00:07\n",
      "   --------------- ------------------------ 0.8/2.1 MB 186.2 kB/s eta 0:00:07\n",
      "   ---------------- ----------------------- 0.9/2.1 MB 182.0 kB/s eta 0:00:07\n",
      "   ---------------- ----------------------- 0.9/2.1 MB 182.0 kB/s eta 0:00:07\n",
      "   ---------------- ----------------------- 0.9/2.1 MB 182.7 kB/s eta 0:00:07\n",
      "   ---------------- ----------------------- 0.9/2.1 MB 182.7 kB/s eta 0:00:07\n",
      "   ---------------- ----------------------- 0.9/2.1 MB 182.7 kB/s eta 0:00:07\n",
      "   ---------------- ----------------------- 0.9/2.1 MB 182.7 kB/s eta 0:00:07\n",
      "   ----------------- ---------------------- 0.9/2.1 MB 181.0 kB/s eta 0:00:07\n",
      "   ----------------- ---------------------- 0.9/2.1 MB 181.0 kB/s eta 0:00:07\n",
      "   ----------------- ---------------------- 0.9/2.1 MB 180.2 kB/s eta 0:00:07\n",
      "   ----------------- ---------------------- 0.9/2.1 MB 180.2 kB/s eta 0:00:07\n",
      "   ----------------- ---------------------- 0.9/2.1 MB 180.4 kB/s eta 0:00:07\n",
      "   ------------------ --------------------- 0.9/2.1 MB 181.3 kB/s eta 0:00:07\n",
      "   ------------------ --------------------- 0.9/2.1 MB 181.3 kB/s eta 0:00:07\n",
      "   ------------------ --------------------- 1.0/2.1 MB 181.9 kB/s eta 0:00:07\n",
      "   ------------------ --------------------- 1.0/2.1 MB 181.9 kB/s eta 0:00:07\n",
      "   ------------------ --------------------- 1.0/2.1 MB 181.9 kB/s eta 0:00:07\n",
      "   ------------------ --------------------- 1.0/2.1 MB 181.9 kB/s eta 0:00:07\n",
      "   ------------------ --------------------- 1.0/2.1 MB 181.9 kB/s eta 0:00:07\n",
      "   ------------------ --------------------- 1.0/2.1 MB 178.4 kB/s eta 0:00:07\n",
      "   ------------------- -------------------- 1.0/2.1 MB 178.2 kB/s eta 0:00:07\n",
      "   ------------------- -------------------- 1.0/2.1 MB 178.2 kB/s eta 0:00:07\n",
      "   ------------------- -------------------- 1.0/2.1 MB 179.9 kB/s eta 0:00:06\n",
      "   ------------------- -------------------- 1.0/2.1 MB 180.7 kB/s eta 0:00:06\n",
      "   -------------------- ------------------- 1.0/2.1 MB 182.4 kB/s eta 0:00:06\n",
      "   -------------------- ------------------- 1.0/2.1 MB 182.4 kB/s eta 0:00:06\n",
      "   -------------------- ------------------- 1.1/2.1 MB 183.0 kB/s eta 0:00:06\n",
      "   -------------------- ------------------- 1.1/2.1 MB 183.0 kB/s eta 0:00:06\n",
      "   -------------------- ------------------- 1.1/2.1 MB 182.3 kB/s eta 0:00:06\n",
      "   -------------------- ------------------- 1.1/2.1 MB 182.3 kB/s eta 0:00:06\n",
      "   --------------------- ------------------ 1.1/2.1 MB 183.3 kB/s eta 0:00:06\n",
      "   --------------------- ------------------ 1.1/2.1 MB 182.6 kB/s eta 0:00:06\n",
      "   --------------------- ------------------ 1.1/2.1 MB 182.6 kB/s eta 0:00:06\n",
      "   --------------------- ------------------ 1.1/2.1 MB 182.6 kB/s eta 0:00:06\n",
      "   --------------------- ------------------ 1.1/2.1 MB 182.2 kB/s eta 0:00:06\n",
      "   --------------------- ------------------ 1.1/2.1 MB 182.2 kB/s eta 0:00:06\n",
      "   ---------------------- ----------------- 1.1/2.1 MB 183.2 kB/s eta 0:00:06\n",
      "   ---------------------- ----------------- 1.2/2.1 MB 186.3 kB/s eta 0:00:05\n",
      "   ---------------------- ----------------- 1.2/2.1 MB 187.5 kB/s eta 0:00:05\n",
      "   ---------------------- ----------------- 1.2/2.1 MB 187.5 kB/s eta 0:00:05\n",
      "   ----------------------- ---------------- 1.2/2.1 MB 187.9 kB/s eta 0:00:05\n",
      "   ----------------------- ---------------- 1.2/2.1 MB 190.9 kB/s eta 0:00:05\n",
      "   ------------------------ --------------- 1.3/2.1 MB 194.2 kB/s eta 0:00:05\n",
      "   ------------------------ --------------- 1.3/2.1 MB 196.5 kB/s eta 0:00:05\n",
      "   ------------------------- -------------- 1.3/2.1 MB 202.9 kB/s eta 0:00:04\n",
      "   -------------------------- ------------- 1.4/2.1 MB 209.2 kB/s eta 0:00:04\n",
      "   --------------------------- ------------ 1.4/2.1 MB 212.3 kB/s eta 0:00:04\n",
      "   ---------------------------- ----------- 1.5/2.1 MB 220.0 kB/s eta 0:00:03\n",
      "   ----------------------------- ---------- 1.5/2.1 MB 223.5 kB/s eta 0:00:03\n",
      "   ------------------------------ --------- 1.6/2.1 MB 229.5 kB/s eta 0:00:03\n",
      "   ------------------------------- -------- 1.6/2.1 MB 238.5 kB/s eta 0:00:02\n",
      "   -------------------------------- ------- 1.7/2.1 MB 241.3 kB/s eta 0:00:02\n",
      "   --------------------------------- ------ 1.7/2.1 MB 249.1 kB/s eta 0:00:02\n",
      "   ---------------------------------- ----- 1.8/2.1 MB 257.2 kB/s eta 0:00:02\n",
      "   ----------------------------------- ---- 1.9/2.1 MB 264.8 kB/s eta 0:00:01\n",
      "   ------------------------------------ --- 1.9/2.1 MB 271.5 kB/s eta 0:00:01\n",
      "   -------------------------------------- - 2.0/2.1 MB 280.1 kB/s eta 0:00:01\n",
      "   ---------------------------------------  2.1/2.1 MB 289.7 kB/s eta 0:00:01\n",
      "   ---------------------------------------- 2.1/2.1 MB 289.3 kB/s eta 0:00:00\n",
      "Installing collected packages: SQLAlchemy\n",
      "Successfully installed SQLAlchemy-2.0.31\n"
     ]
    }
   ],
   "source": [
    "pip install SQLAlchemy"
   ]
  },
  {
   "cell_type": "code",
   "execution_count": 49,
   "id": "208577ae-b2a3-4b8a-b872-7ade8f0b554d",
   "metadata": {},
   "outputs": [],
   "source": [
    "import sqlalchemy as sqal\n",
    "from sqlalchemy import create_engine\n",
    "engine = create_engine('sqlite:///books.db')\n"
   ]
  },
  {
   "cell_type": "code",
   "execution_count": null,
   "id": "f9385874-910a-467d-9659-20e56fbb18d2",
   "metadata": {},
   "outputs": [],
   "source": [
    "9. Install the Redis server and the Python redis library (pip install redis) on your computer. Create a Redis hash called test with the fields count (1) and name ('Fester Bestertester'). Print all the fields for test."
   ]
  },
  {
   "cell_type": "code",
   "execution_count": 50,
   "id": "861a7a49-33b3-4355-bd10-1498659a7064",
   "metadata": {
    "scrolled": true
   },
   "outputs": [
    {
     "name": "stdout",
     "output_type": "stream",
     "text": [
      "Collecting redis\n",
      "  Downloading redis-5.0.6-py3-none-any.whl.metadata (9.3 kB)\n",
      "Downloading redis-5.0.6-py3-none-any.whl (252 kB)\n",
      "   ---------------------------------------- 0.0/252.0 kB ? eta -:--:--\n",
      "   ---------------------------------------- 0.0/252.0 kB ? eta -:--:--\n",
      "   ---------------------------------------- 0.0/252.0 kB ? eta -:--:--\n",
      "   --- ------------------------------------ 20.5/252.0 kB ? eta -:--:--\n",
      "   --- ------------------------------------ 20.5/252.0 kB ? eta -:--:--\n",
      "   --- ------------------------------------ 20.5/252.0 kB ? eta -:--:--\n",
      "   --- ------------------------------------ 20.5/252.0 kB ? eta -:--:--\n",
      "   ---- ---------------------------------- 30.7/252.0 kB 130.4 kB/s eta 0:00:02\n",
      "   --------- ----------------------------- 61.4/252.0 kB 233.8 kB/s eta 0:00:01\n",
      "   --------- ----------------------------- 61.4/252.0 kB 233.8 kB/s eta 0:00:01\n",
      "   ------------ -------------------------- 81.9/252.0 kB 254.2 kB/s eta 0:00:01\n",
      "   -------------- ------------------------ 92.2/252.0 kB 238.1 kB/s eta 0:00:01\n",
      "   ---------------- --------------------- 112.6/252.0 kB 284.4 kB/s eta 0:00:01\n",
      "   --------------------- ---------------- 143.4/252.0 kB 340.5 kB/s eta 0:00:01\n",
      "   --------------------- ---------------- 143.4/252.0 kB 340.5 kB/s eta 0:00:01\n",
      "   ------------------------ ------------- 163.8/252.0 kB 316.7 kB/s eta 0:00:01\n",
      "   ------------------------ ------------- 163.8/252.0 kB 316.7 kB/s eta 0:00:01\n",
      "   -------------------------- ----------- 174.1/252.0 kB 291.0 kB/s eta 0:00:01\n",
      "   -------------------------- ----------- 174.1/252.0 kB 291.0 kB/s eta 0:00:01\n",
      "   ----------------------------- -------- 194.6/252.0 kB 274.3 kB/s eta 0:00:01\n",
      "   ------------------------------ ------- 204.8/252.0 kB 276.8 kB/s eta 0:00:01\n",
      "   ------------------------------ ------- 204.8/252.0 kB 276.8 kB/s eta 0:00:01\n",
      "   ------------------------------ ------- 204.8/252.0 kB 276.8 kB/s eta 0:00:01\n",
      "   ------------------------------ ------- 204.8/252.0 kB 276.8 kB/s eta 0:00:01\n",
      "   ------------------------------ ------- 204.8/252.0 kB 276.8 kB/s eta 0:00:01\n",
      "   ------------------------------ ------- 204.8/252.0 kB 276.8 kB/s eta 0:00:01\n",
      "   ------------------------------ ------- 204.8/252.0 kB 276.8 kB/s eta 0:00:01\n",
      "   ------------------------------ ------- 204.8/252.0 kB 276.8 kB/s eta 0:00:01\n",
      "   --------------------------------- ---- 225.3/252.0 kB 205.4 kB/s eta 0:00:01\n",
      "   --------------------------------- ---- 225.3/252.0 kB 205.4 kB/s eta 0:00:01\n",
      "   -------------------------------------  245.8/252.0 kB 203.6 kB/s eta 0:00:01\n",
      "   -------------------------------------- 252.0/252.0 kB 203.5 kB/s eta 0:00:00\n",
      "Installing collected packages: redis\n",
      "Successfully installed redis-5.0.6\n"
     ]
    },
    {
     "name": "stderr",
     "output_type": "stream",
     "text": [
      "\n",
      "[notice] A new release of pip is available: 24.0 -> 24.1\n",
      "[notice] To update, run: python.exe -m pip install --upgrade pip\n"
     ]
    }
   ],
   "source": [
    "!python -m pip install redis"
   ]
  },
  {
   "cell_type": "code",
   "execution_count": 52,
   "id": "e6676677-67aa-4ef8-8c84-fdd715356d4d",
   "metadata": {},
   "outputs": [
    {
     "ename": "ConnectionError",
     "evalue": "Error 10061 connecting to localhost:6379. No connection could be made because the target machine actively refused it.",
     "output_type": "error",
     "traceback": [
      "\u001b[1;31m---------------------------------------------------------------------------\u001b[0m",
      "\u001b[1;31mConnectionRefusedError\u001b[0m                    Traceback (most recent call last)",
      "File \u001b[1;32m~\\AppData\\Local\\Programs\\Python\\Python311\\Lib\\site-packages\\redis\\connection.py:276\u001b[0m, in \u001b[0;36mAbstractConnection.connect\u001b[1;34m(self)\u001b[0m\n\u001b[0;32m    275\u001b[0m \u001b[38;5;28;01mtry\u001b[39;00m:\n\u001b[1;32m--> 276\u001b[0m     sock \u001b[38;5;241m=\u001b[39m \u001b[38;5;28;43mself\u001b[39;49m\u001b[38;5;241;43m.\u001b[39;49m\u001b[43mretry\u001b[49m\u001b[38;5;241;43m.\u001b[39;49m\u001b[43mcall_with_retry\u001b[49m\u001b[43m(\u001b[49m\n\u001b[0;32m    277\u001b[0m \u001b[43m        \u001b[49m\u001b[38;5;28;43;01mlambda\u001b[39;49;00m\u001b[43m:\u001b[49m\u001b[43m \u001b[49m\u001b[38;5;28;43mself\u001b[39;49m\u001b[38;5;241;43m.\u001b[39;49m\u001b[43m_connect\u001b[49m\u001b[43m(\u001b[49m\u001b[43m)\u001b[49m\u001b[43m,\u001b[49m\u001b[43m \u001b[49m\u001b[38;5;28;43;01mlambda\u001b[39;49;00m\u001b[43m \u001b[49m\u001b[43merror\u001b[49m\u001b[43m:\u001b[49m\u001b[43m \u001b[49m\u001b[38;5;28;43mself\u001b[39;49m\u001b[38;5;241;43m.\u001b[39;49m\u001b[43mdisconnect\u001b[49m\u001b[43m(\u001b[49m\u001b[43merror\u001b[49m\u001b[43m)\u001b[49m\n\u001b[0;32m    278\u001b[0m \u001b[43m    \u001b[49m\u001b[43m)\u001b[49m\n\u001b[0;32m    279\u001b[0m \u001b[38;5;28;01mexcept\u001b[39;00m socket\u001b[38;5;241m.\u001b[39mtimeout:\n",
      "File \u001b[1;32m~\\AppData\\Local\\Programs\\Python\\Python311\\Lib\\site-packages\\redis\\retry.py:46\u001b[0m, in \u001b[0;36mRetry.call_with_retry\u001b[1;34m(self, do, fail)\u001b[0m\n\u001b[0;32m     45\u001b[0m \u001b[38;5;28;01mtry\u001b[39;00m:\n\u001b[1;32m---> 46\u001b[0m     \u001b[38;5;28;01mreturn\u001b[39;00m \u001b[43mdo\u001b[49m\u001b[43m(\u001b[49m\u001b[43m)\u001b[49m\n\u001b[0;32m     47\u001b[0m \u001b[38;5;28;01mexcept\u001b[39;00m \u001b[38;5;28mself\u001b[39m\u001b[38;5;241m.\u001b[39m_supported_errors \u001b[38;5;28;01mas\u001b[39;00m error:\n",
      "File \u001b[1;32m~\\AppData\\Local\\Programs\\Python\\Python311\\Lib\\site-packages\\redis\\connection.py:277\u001b[0m, in \u001b[0;36mAbstractConnection.connect.<locals>.<lambda>\u001b[1;34m()\u001b[0m\n\u001b[0;32m    275\u001b[0m \u001b[38;5;28;01mtry\u001b[39;00m:\n\u001b[0;32m    276\u001b[0m     sock \u001b[38;5;241m=\u001b[39m \u001b[38;5;28mself\u001b[39m\u001b[38;5;241m.\u001b[39mretry\u001b[38;5;241m.\u001b[39mcall_with_retry(\n\u001b[1;32m--> 277\u001b[0m         \u001b[38;5;28;01mlambda\u001b[39;00m: \u001b[38;5;28;43mself\u001b[39;49m\u001b[38;5;241;43m.\u001b[39;49m\u001b[43m_connect\u001b[49m\u001b[43m(\u001b[49m\u001b[43m)\u001b[49m, \u001b[38;5;28;01mlambda\u001b[39;00m error: \u001b[38;5;28mself\u001b[39m\u001b[38;5;241m.\u001b[39mdisconnect(error)\n\u001b[0;32m    278\u001b[0m     )\n\u001b[0;32m    279\u001b[0m \u001b[38;5;28;01mexcept\u001b[39;00m socket\u001b[38;5;241m.\u001b[39mtimeout:\n",
      "File \u001b[1;32m~\\AppData\\Local\\Programs\\Python\\Python311\\Lib\\site-packages\\redis\\connection.py:639\u001b[0m, in \u001b[0;36mConnection._connect\u001b[1;34m(self)\u001b[0m\n\u001b[0;32m    638\u001b[0m \u001b[38;5;28;01mif\u001b[39;00m err \u001b[38;5;129;01mis\u001b[39;00m \u001b[38;5;129;01mnot\u001b[39;00m \u001b[38;5;28;01mNone\u001b[39;00m:\n\u001b[1;32m--> 639\u001b[0m     \u001b[38;5;28;01mraise\u001b[39;00m err\n\u001b[0;32m    640\u001b[0m \u001b[38;5;28;01mraise\u001b[39;00m \u001b[38;5;167;01mOSError\u001b[39;00m(\u001b[38;5;124m\"\u001b[39m\u001b[38;5;124msocket.getaddrinfo returned an empty list\u001b[39m\u001b[38;5;124m\"\u001b[39m)\n",
      "File \u001b[1;32m~\\AppData\\Local\\Programs\\Python\\Python311\\Lib\\site-packages\\redis\\connection.py:627\u001b[0m, in \u001b[0;36mConnection._connect\u001b[1;34m(self)\u001b[0m\n\u001b[0;32m    626\u001b[0m \u001b[38;5;66;03m# connect\u001b[39;00m\n\u001b[1;32m--> 627\u001b[0m \u001b[43msock\u001b[49m\u001b[38;5;241;43m.\u001b[39;49m\u001b[43mconnect\u001b[49m\u001b[43m(\u001b[49m\u001b[43msocket_address\u001b[49m\u001b[43m)\u001b[49m\n\u001b[0;32m    629\u001b[0m \u001b[38;5;66;03m# set the socket_timeout now that we're connected\u001b[39;00m\n",
      "\u001b[1;31mConnectionRefusedError\u001b[0m: [WinError 10061] No connection could be made because the target machine actively refused it",
      "\nDuring handling of the above exception, another exception occurred:\n",
      "\u001b[1;31mConnectionError\u001b[0m                           Traceback (most recent call last)",
      "Cell \u001b[1;32mIn[52], line 3\u001b[0m\n\u001b[0;32m      1\u001b[0m \u001b[38;5;28;01mimport\u001b[39;00m \u001b[38;5;21;01mredis\u001b[39;00m\n\u001b[0;32m      2\u001b[0m conn \u001b[38;5;241m=\u001b[39m redis\u001b[38;5;241m.\u001b[39mRedis()\n\u001b[1;32m----> 3\u001b[0m \u001b[43mconn\u001b[49m\u001b[38;5;241;43m.\u001b[39;49m\u001b[43mhset\u001b[49m\u001b[43m(\u001b[49m\u001b[38;5;124;43m'\u001b[39;49m\u001b[38;5;124;43mtest\u001b[39;49m\u001b[38;5;124;43m'\u001b[39;49m\u001b[43m,\u001b[49m\u001b[43m{\u001b[49m\n\u001b[0;32m      4\u001b[0m \u001b[43m    \u001b[49m\u001b[38;5;124;43m'\u001b[39;49m\u001b[38;5;124;43mcount\u001b[39;49m\u001b[38;5;124;43m'\u001b[39;49m\u001b[43m:\u001b[49m\u001b[38;5;241;43m1\u001b[39;49m\u001b[43m,\u001b[49m\n\u001b[0;32m      5\u001b[0m \u001b[43m    \u001b[49m\u001b[38;5;124;43m'\u001b[39;49m\u001b[38;5;124;43mname\u001b[39;49m\u001b[38;5;124;43m'\u001b[39;49m\u001b[43m:\u001b[49m\u001b[38;5;124;43m'\u001b[39;49m\u001b[38;5;124;43mFester Bestertester\u001b[39;49m\u001b[38;5;124;43m'\u001b[39;49m\u001b[43m}\u001b[49m\u001b[43m)\u001b[49m\n\u001b[0;32m      6\u001b[0m conn\u001b[38;5;241m.\u001b[39mhgetall(\u001b[38;5;124m'\u001b[39m\u001b[38;5;124mtest\u001b[39m\u001b[38;5;124m'\u001b[39m)\n",
      "File \u001b[1;32m~\\AppData\\Local\\Programs\\Python\\Python311\\Lib\\site-packages\\redis\\commands\\core.py:5022\u001b[0m, in \u001b[0;36mHashCommands.hset\u001b[1;34m(self, name, key, value, mapping, items)\u001b[0m\n\u001b[0;32m   5019\u001b[0m     \u001b[38;5;28;01mfor\u001b[39;00m pair \u001b[38;5;129;01min\u001b[39;00m mapping\u001b[38;5;241m.\u001b[39mitems():\n\u001b[0;32m   5020\u001b[0m         pieces\u001b[38;5;241m.\u001b[39mextend(pair)\n\u001b[1;32m-> 5022\u001b[0m \u001b[38;5;28;01mreturn\u001b[39;00m \u001b[38;5;28;43mself\u001b[39;49m\u001b[38;5;241;43m.\u001b[39;49m\u001b[43mexecute_command\u001b[49m\u001b[43m(\u001b[49m\u001b[38;5;124;43m\"\u001b[39;49m\u001b[38;5;124;43mHSET\u001b[39;49m\u001b[38;5;124;43m\"\u001b[39;49m\u001b[43m,\u001b[49m\u001b[43m \u001b[49m\u001b[43mname\u001b[49m\u001b[43m,\u001b[49m\u001b[43m \u001b[49m\u001b[38;5;241;43m*\u001b[39;49m\u001b[43mpieces\u001b[49m\u001b[43m)\u001b[49m\n",
      "File \u001b[1;32m~\\AppData\\Local\\Programs\\Python\\Python311\\Lib\\site-packages\\redis\\client.py:542\u001b[0m, in \u001b[0;36mRedis.execute_command\u001b[1;34m(self, *args, **options)\u001b[0m\n\u001b[0;32m    540\u001b[0m pool \u001b[38;5;241m=\u001b[39m \u001b[38;5;28mself\u001b[39m\u001b[38;5;241m.\u001b[39mconnection_pool\n\u001b[0;32m    541\u001b[0m command_name \u001b[38;5;241m=\u001b[39m args[\u001b[38;5;241m0\u001b[39m]\n\u001b[1;32m--> 542\u001b[0m conn \u001b[38;5;241m=\u001b[39m \u001b[38;5;28mself\u001b[39m\u001b[38;5;241m.\u001b[39mconnection \u001b[38;5;129;01mor\u001b[39;00m \u001b[43mpool\u001b[49m\u001b[38;5;241;43m.\u001b[39;49m\u001b[43mget_connection\u001b[49m\u001b[43m(\u001b[49m\u001b[43mcommand_name\u001b[49m\u001b[43m,\u001b[49m\u001b[43m \u001b[49m\u001b[38;5;241;43m*\u001b[39;49m\u001b[38;5;241;43m*\u001b[39;49m\u001b[43moptions\u001b[49m\u001b[43m)\u001b[49m\n\u001b[0;32m    544\u001b[0m \u001b[38;5;28;01mtry\u001b[39;00m:\n\u001b[0;32m    545\u001b[0m     \u001b[38;5;28;01mreturn\u001b[39;00m conn\u001b[38;5;241m.\u001b[39mretry\u001b[38;5;241m.\u001b[39mcall_with_retry(\n\u001b[0;32m    546\u001b[0m         \u001b[38;5;28;01mlambda\u001b[39;00m: \u001b[38;5;28mself\u001b[39m\u001b[38;5;241m.\u001b[39m_send_command_parse_response(\n\u001b[0;32m    547\u001b[0m             conn, command_name, \u001b[38;5;241m*\u001b[39margs, \u001b[38;5;241m*\u001b[39m\u001b[38;5;241m*\u001b[39moptions\n\u001b[0;32m    548\u001b[0m         ),\n\u001b[0;32m    549\u001b[0m         \u001b[38;5;28;01mlambda\u001b[39;00m error: \u001b[38;5;28mself\u001b[39m\u001b[38;5;241m.\u001b[39m_disconnect_raise(conn, error),\n\u001b[0;32m    550\u001b[0m     )\n",
      "File \u001b[1;32m~\\AppData\\Local\\Programs\\Python\\Python311\\Lib\\site-packages\\redis\\connection.py:1109\u001b[0m, in \u001b[0;36mConnectionPool.get_connection\u001b[1;34m(self, command_name, *keys, **options)\u001b[0m\n\u001b[0;32m   1105\u001b[0m     \u001b[38;5;28mself\u001b[39m\u001b[38;5;241m.\u001b[39m_in_use_connections\u001b[38;5;241m.\u001b[39madd(connection)\n\u001b[0;32m   1107\u001b[0m \u001b[38;5;28;01mtry\u001b[39;00m:\n\u001b[0;32m   1108\u001b[0m     \u001b[38;5;66;03m# ensure this connection is connected to Redis\u001b[39;00m\n\u001b[1;32m-> 1109\u001b[0m     \u001b[43mconnection\u001b[49m\u001b[38;5;241;43m.\u001b[39;49m\u001b[43mconnect\u001b[49m\u001b[43m(\u001b[49m\u001b[43m)\u001b[49m\n\u001b[0;32m   1110\u001b[0m     \u001b[38;5;66;03m# connections that the pool provides should be ready to send\u001b[39;00m\n\u001b[0;32m   1111\u001b[0m     \u001b[38;5;66;03m# a command. if not, the connection was either returned to the\u001b[39;00m\n\u001b[0;32m   1112\u001b[0m     \u001b[38;5;66;03m# pool before all data has been read or the socket has been\u001b[39;00m\n\u001b[0;32m   1113\u001b[0m     \u001b[38;5;66;03m# closed. either way, reconnect and verify everything is good.\u001b[39;00m\n\u001b[0;32m   1114\u001b[0m     \u001b[38;5;28;01mtry\u001b[39;00m:\n",
      "File \u001b[1;32m~\\AppData\\Local\\Programs\\Python\\Python311\\Lib\\site-packages\\redis\\connection.py:282\u001b[0m, in \u001b[0;36mAbstractConnection.connect\u001b[1;34m(self)\u001b[0m\n\u001b[0;32m    280\u001b[0m     \u001b[38;5;28;01mraise\u001b[39;00m \u001b[38;5;167;01mTimeoutError\u001b[39;00m(\u001b[38;5;124m\"\u001b[39m\u001b[38;5;124mTimeout connecting to server\u001b[39m\u001b[38;5;124m\"\u001b[39m)\n\u001b[0;32m    281\u001b[0m \u001b[38;5;28;01mexcept\u001b[39;00m \u001b[38;5;167;01mOSError\u001b[39;00m \u001b[38;5;28;01mas\u001b[39;00m e:\n\u001b[1;32m--> 282\u001b[0m     \u001b[38;5;28;01mraise\u001b[39;00m \u001b[38;5;167;01mConnectionError\u001b[39;00m(\u001b[38;5;28mself\u001b[39m\u001b[38;5;241m.\u001b[39m_error_message(e))\n\u001b[0;32m    284\u001b[0m \u001b[38;5;28mself\u001b[39m\u001b[38;5;241m.\u001b[39m_sock \u001b[38;5;241m=\u001b[39m sock\n\u001b[0;32m    285\u001b[0m \u001b[38;5;28;01mtry\u001b[39;00m:\n",
      "\u001b[1;31mConnectionError\u001b[0m: Error 10061 connecting to localhost:6379. No connection could be made because the target machine actively refused it."
     ]
    }
   ],
   "source": [
    "import redis\n",
    "conn = redis.Redis()\n",
    "conn.hset('test',{\n",
    "    'count':1,\n",
    "    'name':'Fester Bestertester'})\n",
    "conn.hgetall('test')"
   ]
  },
  {
   "cell_type": "code",
   "execution_count": null,
   "id": "51415051-da2e-472f-86ed-9602778204dd",
   "metadata": {},
   "outputs": [],
   "source": [
    "10. Increment the count field of test and print it.\n"
   ]
  },
  {
   "cell_type": "code",
   "execution_count": null,
   "id": "8f73f0ad-857d-4bfe-84fb-fc12568b1b8d",
   "metadata": {},
   "outputs": [],
   "source": [
    "conn.hincrby('test', 'count', 1)\n",
    "conn.hget('test', 'count')"
   ]
  },
  {
   "cell_type": "code",
   "execution_count": null,
   "id": "8fa0a5ae-73c8-461e-8cf9-8cccaee1bd73",
   "metadata": {},
   "outputs": [],
   "source": []
  },
  {
   "cell_type": "code",
   "execution_count": null,
   "id": "13d84d46-a8cb-4add-a55a-ddfed22598c9",
   "metadata": {},
   "outputs": [],
   "source": []
  },
  {
   "cell_type": "code",
   "execution_count": null,
   "id": "e2d69e5e-afc4-42e3-9db9-f113b9c5fd39",
   "metadata": {},
   "outputs": [],
   "source": []
  },
  {
   "cell_type": "code",
   "execution_count": null,
   "id": "ac9cd4fb-6913-4abd-b080-731ad8f2d563",
   "metadata": {},
   "outputs": [],
   "source": []
  },
  {
   "cell_type": "code",
   "execution_count": null,
   "id": "fae7349d-54da-476e-a89e-973fca38bacb",
   "metadata": {},
   "outputs": [],
   "source": []
  },
  {
   "cell_type": "code",
   "execution_count": null,
   "id": "9bf97057-5630-42e3-9163-7f8e9122d2a2",
   "metadata": {},
   "outputs": [],
   "source": []
  }
 ],
 "metadata": {
  "kernelspec": {
   "display_name": "Python 3 (ipykernel)",
   "language": "python",
   "name": "python3"
  },
  "language_info": {
   "codemirror_mode": {
    "name": "ipython",
    "version": 3
   },
   "file_extension": ".py",
   "mimetype": "text/x-python",
   "name": "python",
   "nbconvert_exporter": "python",
   "pygments_lexer": "ipython3",
   "version": "3.11.7"
  },
  "widgets": {
   "application/vnd.jupyter.widget-state+json": {
    "state": {},
    "version_major": 2,
    "version_minor": 0
   }
  }
 },
 "nbformat": 4,
 "nbformat_minor": 5
}
