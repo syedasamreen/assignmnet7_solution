{
 "cells": [
  {
   "cell_type": "raw",
   "id": "85dd754b-7416-4f91-8e12-49e954d26718",
   "metadata": {},
   "source": [
    "1. Create a list called years_list, starting with the year of your birth, and each year thereafter until the year of your fifth birthday. For example, if you were born in 1980. the list would be years_list = [1980, 1981, 1982, 1983, 1984, 1985]."
   ]
  },
  {
   "cell_type": "code",
   "execution_count": 1,
   "id": "faced3c4-887a-4d22-9f1b-224161e3c134",
   "metadata": {},
   "outputs": [
    {
     "name": "stdout",
     "output_type": "stream",
     "text": [
      "[1990, 1991, 1992, 1993, 1994]\n"
     ]
    }
   ],
   "source": [
    "years_list = [1990,1991,1992,1993,1994]\n",
    "print(years_list)"
   ]
  },
  {
   "cell_type": "raw",
   "id": "cdfd8496-1613-4ab1-8c72-f00451182fbf",
   "metadata": {},
   "source": [
    "2. In which year in years_list was your third birthday? Remember, you were 0 years of age for your first year."
   ]
  },
  {
   "cell_type": "code",
   "execution_count": 5,
   "id": "8b0b9d4f-89f2-410e-b356-16b949a98d6b",
   "metadata": {},
   "outputs": [
    {
     "name": "stdout",
     "output_type": "stream",
     "text": [
      "The 3rd birthday would be 1993\n"
     ]
    }
   ],
   "source": [
    "print(f'The 3rd birthday would be {years_list[3]}')"
   ]
  },
  {
   "cell_type": "raw",
   "id": "adfad16f-ba4d-45e7-a39f-5f2abc25b60d",
   "metadata": {},
   "source": [
    "3.In the years list, which year were you the oldest?"
   ]
  },
  {
   "cell_type": "code",
   "execution_count": 6,
   "id": "8526afeb-a260-4ce8-b41a-920722264f5c",
   "metadata": {},
   "outputs": [
    {
     "name": "stdout",
     "output_type": "stream",
     "text": [
      "The oldest year  would be 1994\n"
     ]
    }
   ],
   "source": [
    "print(f'The oldest year  would be {years_list[-1]}')"
   ]
  },
  {
   "cell_type": "raw",
   "id": "5e768a91-fdea-427b-8542-d5daed712d59",
   "metadata": {},
   "source": [
    "4. Make a list called things with these three strings as elements: \"mozzarella\", \"cinderella\", \"salmonella\"."
   ]
  },
  {
   "cell_type": "code",
   "execution_count": 7,
   "id": "75e864cb-bea7-4c20-890d-6e83ce9cc619",
   "metadata": {},
   "outputs": [],
   "source": [
    "elements = [\"mozzarella\", \"cinderella\", \"salmonella\"]"
   ]
  },
  {
   "cell_type": "raw",
   "id": "fabb2850-f85c-4154-b637-d624715e55db",
   "metadata": {},
   "source": [
    "5. Capitalize the element in things that refers to a person and then print the list. Did it change the element in the list?"
   ]
  },
  {
   "cell_type": "code",
   "execution_count": 8,
   "id": "316d724e-ba71-4fc0-9cd2-a68ed3b7fbb6",
   "metadata": {},
   "outputs": [
    {
     "data": {
      "text/plain": [
       "'Cinderella'"
      ]
     },
     "execution_count": 8,
     "metadata": {},
     "output_type": "execute_result"
    }
   ],
   "source": [
    "elements[1].capitalize()"
   ]
  },
  {
   "cell_type": "code",
   "execution_count": 9,
   "id": "34936f2c-1c15-46b1-a780-60cd59f0f368",
   "metadata": {},
   "outputs": [
    {
     "name": "stdout",
     "output_type": "stream",
     "text": [
      "['mozzarella', 'cinderella', 'salmonella']\n"
     ]
    }
   ],
   "source": [
    "print(elements)"
   ]
  },
  {
   "cell_type": "raw",
   "id": "80d8d2c9-84bc-47fb-8963-1416ef447824",
   "metadata": {},
   "source": [
    "Did it change the element in the list?\n",
    "No, because string functionality will not change the data indside the list."
   ]
  },
  {
   "cell_type": "raw",
   "id": "ddeb2467-1254-491e-8576-8ab59424b6c6",
   "metadata": {},
   "source": [
    "6. Make a surprise list with the elements \"Groucho,\" \"Chico,\" and \"Harpo.\""
   ]
  },
  {
   "cell_type": "code",
   "execution_count": 10,
   "id": "a8b9baa0-3819-4ba0-9a64-c7c2c38d5a0c",
   "metadata": {},
   "outputs": [],
   "source": [
    "surprise = [\"Groucho\" ,\"Chico\" ,\"Harpo\"]"
   ]
  },
  {
   "cell_type": "raw",
   "id": "cbaccba4-1ce3-4eac-b649-beb2c15d4cb3",
   "metadata": {},
   "source": [
    "7. Lowercase the last element of the surprise list, reverse it, and then capitalize it."
   ]
  },
  {
   "cell_type": "code",
   "execution_count": 17,
   "id": "e3ba00c0-2152-4ce5-a1e5-376be234aaad",
   "metadata": {},
   "outputs": [
    {
     "data": {
      "text/plain": [
       "'harpo'"
      ]
     },
     "execution_count": 17,
     "metadata": {},
     "output_type": "execute_result"
    }
   ],
   "source": [
    "surprise[-1].lower()"
   ]
  },
  {
   "cell_type": "code",
   "execution_count": 18,
   "id": "e3a2018a-3722-4539-96d4-e58a16acc9bf",
   "metadata": {},
   "outputs": [
    {
     "data": {
      "text/plain": [
       "'Oprah'"
      ]
     },
     "execution_count": 18,
     "metadata": {},
     "output_type": "execute_result"
    }
   ],
   "source": [
    "surprise[-1][::-1].capitalize()"
   ]
  },
  {
   "cell_type": "raw",
   "id": "c7edc408-75e8-4d9c-8655-0dd0ede51ead",
   "metadata": {},
   "source": [
    "8. Make an English-to-French dictionary called e2f and print it. Here are your starter words: dog is chien, cat is chat, and walrus is morse."
   ]
  },
  {
   "cell_type": "code",
   "execution_count": 19,
   "id": "25256a3d-1a92-407d-92ae-de7e10d95ae1",
   "metadata": {},
   "outputs": [
    {
     "data": {
      "text/plain": [
       "{'dog': 'chien', 'cat': 'chat', 'walrus': 'morse'}"
      ]
     },
     "execution_count": 19,
     "metadata": {},
     "output_type": "execute_result"
    }
   ],
   "source": [
    "e2f = {'dog':'chien',\n",
    "      'cat':'chat',\n",
    "      'walrus':'morse'}\n",
    "e2f"
   ]
  },
  {
   "cell_type": "raw",
   "id": "41f4e009-7939-4988-a9ed-99bfe45e64de",
   "metadata": {},
   "source": [
    "9. Write the French word for walrus in your three-word dictionary e2f."
   ]
  },
  {
   "cell_type": "code",
   "execution_count": 20,
   "id": "a6dc1b85-568a-4e4a-b687-04fd9be2116d",
   "metadata": {},
   "outputs": [
    {
     "data": {
      "text/plain": [
       "'morse'"
      ]
     },
     "execution_count": 20,
     "metadata": {},
     "output_type": "execute_result"
    }
   ],
   "source": [
    "e2f['walrus']"
   ]
  },
  {
   "cell_type": "raw",
   "id": "fc808164-219a-46c5-a5b5-aabf54ca295f",
   "metadata": {},
   "source": [
    "10. Make a French-to-English dictionary called f2e from e2f. Use the items method."
   ]
  },
  {
   "cell_type": "code",
   "execution_count": 30,
   "id": "7e7a5bd2-3e8a-4972-bab9-71f49369fa44",
   "metadata": {},
   "outputs": [],
   "source": [
    "f2e ={v: k for k, v in e2f.items()}"
   ]
  },
  {
   "cell_type": "code",
   "execution_count": 31,
   "id": "e31a4558-d0fe-42d6-abbf-6d3d80a32950",
   "metadata": {},
   "outputs": [
    {
     "data": {
      "text/plain": [
       "{'chien': 'dog', 'chat': 'cat', 'morse': 'walrus'}"
      ]
     },
     "execution_count": 31,
     "metadata": {},
     "output_type": "execute_result"
    }
   ],
   "source": [
    "f2e"
   ]
  },
  {
   "cell_type": "raw",
   "id": "8a2be688-0f75-4a5d-9e87-1b33b64f2f99",
   "metadata": {},
   "source": [
    "11. Print the English version of the French word chien using f2e."
   ]
  },
  {
   "cell_type": "code",
   "execution_count": 32,
   "id": "018e4750-29fe-45bd-90d6-e3a4a9008ac0",
   "metadata": {},
   "outputs": [
    {
     "data": {
      "text/plain": [
       "'dog'"
      ]
     },
     "execution_count": 32,
     "metadata": {},
     "output_type": "execute_result"
    }
   ],
   "source": [
    "f2e['chien']"
   ]
  },
  {
   "cell_type": "raw",
   "id": "8246dee8-6568-493e-bc30-5ab5fc49dff1",
   "metadata": {},
   "source": [
    "12. Make and print a set of English words from the keys in e2f."
   ]
  },
  {
   "cell_type": "code",
   "execution_count": 33,
   "id": "49da8c45-2f37-45f0-bec7-6c4ad78786e7",
   "metadata": {},
   "outputs": [
    {
     "data": {
      "text/plain": [
       "dict_keys(['dog', 'cat', 'walrus'])"
      ]
     },
     "execution_count": 33,
     "metadata": {},
     "output_type": "execute_result"
    }
   ],
   "source": [
    "e2f.keys()"
   ]
  },
  {
   "cell_type": "raw",
   "id": "83bc91d9-d61f-4c07-b4b8-c431933cd6a0",
   "metadata": {},
   "source": [
    "13. Make a multilevel dictionary called life. Use these strings for the topmost keys: 'animals', 'plants', and 'other'. Make the 'animals' key refer to another dictionary with the keys 'cats', 'octopi', and 'emus'. Make the 'cats' key refer to a list of strings with the values 'Henri', 'Grumpy', and 'Lucy'. Make all the other keys refer to empty dictionaries."
   ]
  },
  {
   "cell_type": "code",
   "execution_count": 40,
   "id": "19996f8b-63e9-45b8-99db-d292736cdd32",
   "metadata": {},
   "outputs": [],
   "source": [
    "life =  {'animals':{\n",
    "                     'cats':['Henri', 'Grumpy','Lucy'],\n",
    "                    'octopi':{},\n",
    "                    'emus':{}},\n",
    "         'plants':{},\n",
    "         'others':{}}\n",
    "         \n"
   ]
  },
  {
   "cell_type": "raw",
   "id": "2a4b6fe7-9097-428a-a2a9-91c370c08ef6",
   "metadata": {},
   "source": [
    "14. Print the top-level keys of life."
   ]
  },
  {
   "cell_type": "code",
   "execution_count": 42,
   "id": "47005957-76e6-485a-b0db-c43fb3b56feb",
   "metadata": {},
   "outputs": [
    {
     "data": {
      "text/plain": [
       "dict_keys(['animals', 'plants', 'others'])"
      ]
     },
     "execution_count": 42,
     "metadata": {},
     "output_type": "execute_result"
    }
   ],
   "source": [
    "life.keys()"
   ]
  },
  {
   "cell_type": "raw",
   "id": "4920179d-a498-4687-9c3a-ba6b04f22f3a",
   "metadata": {},
   "source": [
    "15. Print the keys for life['animals']."
   ]
  },
  {
   "cell_type": "code",
   "execution_count": 43,
   "id": "8833e142-4ccc-46eb-83ae-1658d6b46cc7",
   "metadata": {},
   "outputs": [
    {
     "data": {
      "text/plain": [
       "dict_keys(['cats', 'octopi', 'emus'])"
      ]
     },
     "execution_count": 43,
     "metadata": {},
     "output_type": "execute_result"
    }
   ],
   "source": [
    "life['animals'].keys()"
   ]
  },
  {
   "cell_type": "raw",
   "id": "a9e38358-77e1-42c3-ab55-6c74b58dd558",
   "metadata": {},
   "source": [
    "16. Print the values for life['animals']['cats']"
   ]
  },
  {
   "cell_type": "code",
   "execution_count": 44,
   "id": "759e0d0a-4368-4163-b3c6-0f33981baec8",
   "metadata": {},
   "outputs": [
    {
     "data": {
      "text/plain": [
       "['Henri', 'Grumpy', 'Lucy']"
      ]
     },
     "execution_count": 44,
     "metadata": {},
     "output_type": "execute_result"
    }
   ],
   "source": [
    "life['animals']['cats']"
   ]
  },
  {
   "cell_type": "code",
   "execution_count": null,
   "id": "8b427b37-e41e-4de4-8fd6-883e2e019e91",
   "metadata": {},
   "outputs": [],
   "source": []
  }
 ],
 "metadata": {
  "kernelspec": {
   "display_name": "Python 3 (ipykernel)",
   "language": "python",
   "name": "python3"
  },
  "language_info": {
   "codemirror_mode": {
    "name": "ipython",
    "version": 3
   },
   "file_extension": ".py",
   "mimetype": "text/x-python",
   "name": "python",
   "nbconvert_exporter": "python",
   "pygments_lexer": "ipython3",
   "version": "3.11.7"
  },
  "widgets": {
   "application/vnd.jupyter.widget-state+json": {
    "state": {},
    "version_major": 2,
    "version_minor": 0
   }
  }
 },
 "nbformat": 4,
 "nbformat_minor": 5
}
